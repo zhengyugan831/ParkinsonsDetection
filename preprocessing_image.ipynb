{
 "cells": [
  {
   "cell_type": "code",
   "execution_count": 1,
   "id": "be921ab3",
   "metadata": {},
   "outputs": [],
   "source": [
    "import cv2\n",
    "import matplotlib.pyplot as plt\n",
    "import numpy as np\n",
    "\n",
    "from skimage import feature, exposure\n",
    "from skimage.morphology import closing\n",
    "from skimage.morphology import disk\n",
    "from skimage.morphology import label as sk_label\n",
    "from tqdm.notebook import tqdm"
   ]
  },
  {
   "cell_type": "code",
   "execution_count": 2,
   "id": "4ad869ff",
   "metadata": {},
   "outputs": [],
   "source": [
    "def label_sort(in_img, cutoff = 0.01):\n",
    "    total_cnt = np.sum(in_img > 0)\n",
    "    lab_img = sk_label(in_img)\n",
    "    new_image = np.zeros_like(lab_img)\n",
    "    remap_index = []\n",
    "    \n",
    "    for k in np.unique(lab_img[lab_img > 0]):\n",
    "        cnt = np.sum(lab_img == k) # get area of labelled object\n",
    "        \n",
    "        if cnt > total_cnt * cutoff:\n",
    "            remap_index += [(k, cnt)]\n",
    "            \n",
    "    sorted_index = sorted(remap_index, key=lambda x: -x[1]) # reverse sort - largest is first\n",
    "    \n",
    "    for new_idx, (old_idx, idx_count) in enumerate(sorted_index, 1): #enumerate starting at id 1\n",
    "        new_image[lab_img == old_idx] = new_idx\n",
    "    \n",
    "    return new_image"
   ]
  },
  {
   "cell_type": "code",
   "execution_count": 3,
   "id": "6b0c0419",
   "metadata": {},
   "outputs": [],
   "source": [
    "def preprocessing_img(df_dataset, show_sample_img = True):\n",
    "    list_data = []\n",
    "    list_labels = []\n",
    "    list_temp = []\n",
    "    show_img = False\n",
    "    \n",
    "    for index, row in tqdm(df_dataset.iterrows(), total = df_dataset.shape[0], desc = df_dataset.iloc[0]['validation'] + ' data load'):\n",
    "        key_list = row['geometry_type'] + '_' + row['disease']\n",
    "        if key_list not in list_temp:\n",
    "            list_temp.append(key_list)\n",
    "            show_img = True\n",
    "                \n",
    "        ori_img = cv2.imread(str(row['file_path']))\n",
    "        label = row['disease']\n",
    "\n",
    "        resize_img = cv2.resize(ori_img, (200, 200))\n",
    "        gray_img = cv2.cvtColor(resize_img, cv2.COLOR_BGR2GRAY)\n",
    "        threshold_img = cv2.threshold(gray_img, 0, 255, cv2.THRESH_BINARY_INV | cv2.THRESH_OTSU)[1]\n",
    "        noiseless_img = closing(label_sort(threshold_img)>0, disk(1))\n",
    "\n",
    "        hog_img = feature.hog(noiseless_img, orientations = 9, pixels_per_cell = (10, 10),\n",
    "                                    cells_per_block = (2, 2), transform_sqrt = True, block_norm = \"L1\")\n",
    "\n",
    "        list_data.append(hog_img)\n",
    "        list_labels.append(label)\n",
    "        \n",
    "        if show_img and show_sample_img:\n",
    "            # visualize the HOG image\n",
    "            (H, hog_img) = feature.hog(noiseless_img, orientations = 9, pixels_per_cell = (10, 10),\n",
    "                                cells_per_block = (2, 2), transform_sqrt = True, block_norm = \"L1\", visualize=True)\n",
    "            hog_img = exposure.rescale_intensity(hog_img, out_range = (0, 255))\n",
    "            hog_img = hog_img.astype(\"uint8\")\n",
    "        \n",
    "            titles = [label + ' (Original)', label + ' (Gray)', label + ' (Threshold)', label + ' (Noiseless)', label + ' (Hog)']\n",
    "            images = [resize_img, gray_img, threshold_img, noiseless_img, hog_img]\n",
    "            plt.figure(figsize=(14, 4))\n",
    "            \n",
    "            for i in range(len(images)):\n",
    "                plt.subplot(1, 5, i + 1)\n",
    "                plt.imshow(images[i], cmap='gray')\n",
    "                plt.title(titles[i])\n",
    "                plt.xticks([])\n",
    "                plt.yticks([])\n",
    "                \n",
    "            plt.tight_layout()\n",
    "            plt.show()\n",
    "            \n",
    "            show_img = False\n",
    "        \n",
    "    return (np.array(list_data), np.array(list_labels))"
   ]
  },
  {
   "cell_type": "code",
   "execution_count": null,
   "id": "8b5fd479",
   "metadata": {},
   "outputs": [],
   "source": []
  }
 ],
 "metadata": {
  "kernelspec": {
   "display_name": "Python 3 (ipykernel)",
   "language": "python",
   "name": "python3"
  },
  "language_info": {
   "codemirror_mode": {
    "name": "ipython",
    "version": 3
   },
   "file_extension": ".py",
   "mimetype": "text/x-python",
   "name": "python",
   "nbconvert_exporter": "python",
   "pygments_lexer": "ipython3",
   "version": "3.9.12"
  }
 },
 "nbformat": 4,
 "nbformat_minor": 5
}
